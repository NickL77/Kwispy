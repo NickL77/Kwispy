{
 "cells": [
  {
   "cell_type": "code",
   "execution_count": null,
   "metadata": {},
   "outputs": [],
   "source": [
    "import time\n",
    "import pyaudio\n",
    "\n",
    "import numpy as np"
   ]
  },
  {
   "cell_type": "code",
   "execution_count": null,
   "metadata": {},
   "outputs": [],
   "source": [
    "# import wave\n",
    "# import contextlib\n",
    "\n",
    "# from scipy.io import wavfile\n",
    "# from pydub import AudioSegment\n",
    "\n",
    "import os\n",
    "import sys\n",
    "import ctypes\n",
    "\n",
    "import numpy as np\n",
    "from ctypes import util\n",
    "\n",
    "lib_path = util.find_library(\"rnnoise\")\n",
    "if (not(\"/\" in lib_path)):\n",
    "    lib_path = (os.popen('ldconfig -p | grep '+lib_path).read().split('\\n')[0].strip().split(\" \")[-1] or (\"/usr/local/lib/\"+lib_path))\n",
    "\n",
    "lib = ctypes.cdll.LoadLibrary(lib_path)\n",
    "lib.rnnoise_process_frame.argtypes = [ctypes.c_void_p,ctypes.POINTER(ctypes.c_float),ctypes.POINTER(ctypes.c_float)]\n",
    "lib.rnnoise_process_frame.restype = ctypes.c_float\n",
    "lib.rnnoise_create.restype = ctypes.c_void_p\n",
    "lib.rnnoise_destroy.argtypes = [ctypes.c_void_p]\n",
    "\n",
    "# borrowed from here \n",
    "# https://github.com/Shb742/rnnoise_python\n",
    "class RNNoise(object):\n",
    "    def __init__(self):\n",
    "        self.obj = lib.rnnoise_create(None)\n",
    "    def process_frame(self,inbuf):\n",
    "        outbuf = np.ndarray((480,), 'h', inbuf).astype(ctypes.c_float)\n",
    "        outbuf_ptr = outbuf.ctypes.data_as(ctypes.POINTER(ctypes.c_float))\n",
    "        VodProb =  lib.rnnoise_process_frame(self.obj,outbuf_ptr,outbuf_ptr)\n",
    "        return (VodProb,outbuf.astype(ctypes.c_short).tobytes())\n",
    "\n",
    "    def destroy(self):\n",
    "        lib.rnnoise_destroy(self.obj)\n",
    "\n",
    "denoiser = RNNoise()"
   ]
  },
  {
   "cell_type": "code",
   "execution_count": null,
   "metadata": {},
   "outputs": [],
   "source": [
    "FORMAT = pyaudio.paInt16\n",
    "CHANNELS = 1\n",
    "RATE = 48000\n",
    "CHUNK = 960/2 # CHUNK = 1024\n",
    "\n",
    "audio = pyaudio.PyAudio()\n",
    "denoiser = RNNoise()"
   ]
  },
  {
   "cell_type": "code",
   "execution_count": null,
   "metadata": {},
   "outputs": [],
   "source": [
    "def get_stream_index():\n",
    "\n",
    "    output = os.popen(\"pacmd list-sink-inputs\")\n",
    "\n",
    "    index = 0\n",
    "    index_pid = 0\n",
    "    py_pid = int(os.getpid())\n",
    "\n",
    "    for line in output.readlines():\n",
    "        line = line.strip()\n",
    "        if line.startswith(\"index:\"):\n",
    "            index = int(line[7:])\n",
    "\n",
    "        s, e = 0, 0\n",
    "        if line.startswith(\"application.process.id\"):\n",
    "            for i, c in enumerate(line):\n",
    "                if c == \"\\\"\":\n",
    "                    if not s:\n",
    "                        s = i\n",
    "                    else:\n",
    "                        e = i\n",
    "                        break\n",
    "            assert s and e\n",
    "            index_pid = int(line[s + 1:e])\n",
    "\n",
    "        if index_pid == py_pid:\n",
    "            return(index)\n",
    "        \n",
    "    raise RuntimeError"
   ]
  },
  {
   "cell_type": "code",
   "execution_count": null,
   "metadata": {},
   "outputs": [],
   "source": [
    "def get_sink_id():\n",
    "    \n",
    "    output = os.popen(\"pactl list short sinks\")\n",
    "    \n",
    "    for line in output.readlines():\n",
    "        info = line.split(\"\\t\")\n",
    "        if info[1] == \"virtsink\":\n",
    "            return int(info[0])\n",
    "    \n",
    "    raise RuntimeError"
   ]
  },
  {
   "cell_type": "code",
   "execution_count": null,
   "metadata": {},
   "outputs": [],
   "source": [
    "def callback(in_data, frame_count, time_info, status):\n",
    "    denoised_frame = denoiser.process_frame(in_data)[1]\n",
    "    # print('a')\n",
    "    return (denoised_frame, pyaudio.paContinue)\n",
    "\n",
    "stream = audio.open(format=FORMAT,\\\n",
    "                    channels=CHANNELS,\\\n",
    "                    rate=RATE,\\\n",
    "                    input=True,\\\n",
    "                    output=True,\\\n",
    "                    stream_callback=callback,\\\n",
    "                    # input_device_index=1, \\\n",
    "                    frames_per_buffer=CHUNK)\n",
    "\n",
    "sink_id = get_sink_id()\n",
    "\n",
    "stream.start_stream()\n",
    "\n",
    "stream_index = get_stream_index()\n",
    "os.popen(\"pactl move-sink-input {} {}\".format(stream_index, sink_id))\n",
    "\n",
    "time.sleep(120)\n",
    "\n",
    "stream.stop_stream()\n",
    "stream.close()"
   ]
  },
  {
   "cell_type": "code",
   "execution_count": null,
   "metadata": {},
   "outputs": [],
   "source": []
  }
 ],
 "metadata": {
  "kernelspec": {
   "display_name": "Python 3",
   "language": "python",
   "name": "python3"
  },
  "language_info": {
   "codemirror_mode": {
    "name": "ipython",
    "version": 2
   },
   "file_extension": ".py",
   "mimetype": "text/x-python",
   "name": "python",
   "nbconvert_exporter": "python",
   "pygments_lexer": "ipython2",
   "version": "2.7.17"
  }
 },
 "nbformat": 4,
 "nbformat_minor": 2
}

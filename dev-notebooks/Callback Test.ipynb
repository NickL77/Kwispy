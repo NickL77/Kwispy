{
 "cells": [
  {
   "cell_type": "code",
   "execution_count": 1,
   "metadata": {},
   "outputs": [],
   "source": [
    "import time\n",
    "import pyaudio\n",
    "import wave\n",
    "\n",
    "import numpy as np"
   ]
  },
  {
   "cell_type": "code",
   "execution_count": 2,
   "metadata": {},
   "outputs": [],
   "source": [
    "import wave\n",
    "import os,sys\n",
    "import ctypes\n",
    "import contextlib\n",
    "import numpy as np\n",
    "from ctypes import util\n",
    "from scipy.io import wavfile\n",
    "from pydub import AudioSegment\n",
    "\n",
    "lib_path = util.find_library(\"rnnoise\")\n",
    "if (not(\"/\" in lib_path)):\n",
    "    lib_path = (os.popen('ldconfig -p | grep '+lib_path).read().split('\\n')[0].strip().split(\" \")[-1] or (\"/usr/local/lib/\"+lib_path))\n",
    "\n",
    "lib = ctypes.cdll.LoadLibrary(lib_path)\n",
    "lib.rnnoise_process_frame.argtypes = [ctypes.c_void_p,ctypes.POINTER(ctypes.c_float),ctypes.POINTER(ctypes.c_float)]\n",
    "lib.rnnoise_process_frame.restype = ctypes.c_float\n",
    "lib.rnnoise_create.restype = ctypes.c_void_p\n",
    "lib.rnnoise_destroy.argtypes = [ctypes.c_void_p]\n",
    "\n",
    "# borrowed from here \n",
    "# https://github.com/Shb742/rnnoise_python\n",
    "class RNNoise(object):\n",
    "    def __init__(self):\n",
    "        self.obj = lib.rnnoise_create(None)\n",
    "    def process_frame(self,inbuf):\n",
    "        outbuf = np.ndarray((480,), 'h', inbuf).astype(ctypes.c_float)\n",
    "        outbuf_ptr = outbuf.ctypes.data_as(ctypes.POINTER(ctypes.c_float))\n",
    "        VodProb =  lib.rnnoise_process_frame(self.obj,outbuf_ptr,outbuf_ptr)\n",
    "        return (VodProb,outbuf.astype(ctypes.c_short).tobytes())\n",
    "\n",
    "    def destroy(self):\n",
    "        lib.rnnoise_destroy(self.obj)\n",
    "        \n",
    "denoiser = RNNoise()"
   ]
  },
  {
   "cell_type": "code",
   "execution_count": 3,
   "metadata": {},
   "outputs": [],
   "source": [
    "FORMAT = pyaudio.paInt16\n",
    "CHANNELS = 1\n",
    "# RATE = 44100\n",
    "RATE = 48000\n",
    "CHUNK = 960/2 # CHUNK = 1024\n",
    "# RECORD_SECONDS = 0.1\n",
    "WAVE_OUTPUT_FILENAME = \"output.wav\"\n",
    "\n",
    "audio = pyaudio.PyAudio()\n",
    "denoiser = RNNoise()"
   ]
  },
  {
   "cell_type": "code",
   "execution_count": 4,
   "metadata": {},
   "outputs": [],
   "source": [
    "def callback(in_data, frame_count, time_info, status):\n",
    "    denoised_frame = denoiser.process_frame(in_data)[1]\n",
    "    return (denoised_frame, pyaudio.paContinue)\n",
    "\n",
    "stream = audio.open(format=FORMAT,\\\n",
    "                    channels=CHANNELS,\\\n",
    "                    rate=RATE,\\\n",
    "                    input=True,\\\n",
    "                    output=True,\\\n",
    "                    stream_callback=callback,\\\n",
    "                    # input_device_index=1, \\\n",
    "                    frames_per_buffer=CHUNK)\n",
    "\n",
    "stream.start_stream()\n",
    "\n",
    "time.sleep(30)\n",
    "    \n",
    "stream.stop_stream()\n",
    "stream.close()"
   ]
  },
  {
   "cell_type": "code",
   "execution_count": null,
   "metadata": {},
   "outputs": [],
   "source": [
    "WAVE_OUTPUT_FILENAME = \"output.wav\"\n",
    "\n",
    "waveFile = wave.open(WAVE_OUTPUT_FILENAME, 'wb')\n",
    "waveFile.setnchannels(CHANNELS)\n",
    "waveFile.setsampwidth(audio.get_sample_size(FORMAT))\n",
    "waveFile.setframerate(RATE)\n",
    "\n",
    "def callback(in_data, frame_count, time_info, status):  \n",
    "    waveFile.writeframes(in_data)\n",
    "    return (in_data, pyaudio.paContinue)\n",
    "\n",
    "stream = audio.open(format=FORMAT,\\\n",
    "                    channels=CHANNELS,\\\n",
    "                    rate=RATE,\\\n",
    "                    input=True,\\\n",
    "                    stream_callback=callback,\\\n",
    "                    input_device_index=7, \\\n",
    "                    frames_per_buffer=CHUNK)\n",
    "\n",
    "stream.start_stream()\n",
    "\n",
    "time.sleep(10)\n",
    "    \n",
    "stream.stop_stream()\n",
    "stream.close()"
   ]
  },
  {
   "cell_type": "code",
   "execution_count": 8,
   "metadata": {},
   "outputs": [
    {
     "name": "stdout",
     "output_type": "stream",
     "text": [
      "Input Device id  5  -  pulse\n",
      "Input Device id  6  -  default\n"
     ]
    }
   ],
   "source": [
    "info = audio.get_host_api_info_by_index(0)\n",
    "numdevices = info.get('deviceCount')\n",
    "for i in range(0, numdevices):\n",
    "        if (audio.get_device_info_by_host_api_device_index(0, i).get('maxInputChannels')) > 0:\n",
    "            print \"Input Device id \", i, \" - \", audio.get_device_info_by_host_api_device_index(0, i).get('name')"
   ]
  },
  {
   "cell_type": "code",
   "execution_count": null,
   "metadata": {},
   "outputs": [],
   "source": []
  }
 ],
 "metadata": {
  "kernelspec": {
   "display_name": "Python 3",
   "language": "python",
   "name": "python3"
  },
  "language_info": {
   "codemirror_mode": {
    "name": "ipython",
    "version": 2
   },
   "file_extension": ".py",
   "mimetype": "text/x-python",
   "name": "python",
   "nbconvert_exporter": "python",
   "pygments_lexer": "ipython2",
   "version": "2.7.17"
  }
 },
 "nbformat": 4,
 "nbformat_minor": 2
}
